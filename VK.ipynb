{
 "cells": [
  {
   "cell_type": "code",
   "execution_count": 1,
   "id": "0cf2f46d",
   "metadata": {},
   "outputs": [],
   "source": [
    "import torch\n",
    "import numpy as np\n",
    "\n",
    "import pandas as pd\n",
    "import torch.nn as nn\n",
    "import torch.nn.functional as f\n",
    "import matplotlib.pyplot as plt\n",
    "\n",
    "from sklearn.model_selection import train_test_split\n",
    "from torch.utils.data import Dataset, DataLoader\n",
    "from functools import lru_cache\n",
    "from tqdm.notebook import tqdm\n",
    "from torch.utils.data import DataLoader\n",
    "from torchtext.data.utils import get_tokenizer\n",
    "from torchtext.vocab import build_vocab_from_iterator\n",
    "from IPython.display import clear_output\n",
    "from collections import defaultdict"
   ]
  },
  {
   "cell_type": "markdown",
   "id": "f747761d",
   "metadata": {},
   "source": [
    "### Summary\n",
    "\n",
    "У нас есть таблица рейтингов, тегов и фильмов.\n",
    "\n",
    "Основная идея в том, чтобы обучить модель, которая по описанию фильма выдает его embedding,\n",
    "сделать модель, которая по оценке фильма выдает embeding пользователя, усреднить по пользователю такие эмбединги.\n",
    "\n",
    "Как это обучать??\n",
    "\n",
    "\n",
    "Для этого заведем модель, которая по эмбедингам фильма и пользователя будет предсказывать оценку этого фильма"
   ]
  },
  {
   "cell_type": "code",
   "execution_count": 2,
   "id": "08b46982",
   "metadata": {},
   "outputs": [],
   "source": [
    "DATA_DIR = \"ml-latest/\"\n",
    "\n",
    "ratings = pd.read_csv(DATA_DIR + \"ratings.csv\")\n",
    "movies = pd.read_csv(DATA_DIR + \"movies.csv\")\n",
    "tags = pd.read_csv(DATA_DIR + \"tags.csv\")"
   ]
  },
  {
   "cell_type": "code",
   "execution_count": 3,
   "id": "4f245015",
   "metadata": {},
   "outputs": [
    {
     "data": {
      "text/html": [
       "<div>\n",
       "<style scoped>\n",
       "    .dataframe tbody tr th:only-of-type {\n",
       "        vertical-align: middle;\n",
       "    }\n",
       "\n",
       "    .dataframe tbody tr th {\n",
       "        vertical-align: top;\n",
       "    }\n",
       "\n",
       "    .dataframe thead th {\n",
       "        text-align: right;\n",
       "    }\n",
       "</style>\n",
       "<table border=\"1\" class=\"dataframe\">\n",
       "  <thead>\n",
       "    <tr style=\"text-align: right;\">\n",
       "      <th></th>\n",
       "      <th>userId</th>\n",
       "      <th>movieId</th>\n",
       "      <th>rating</th>\n",
       "      <th>timestamp</th>\n",
       "    </tr>\n",
       "  </thead>\n",
       "  <tbody>\n",
       "    <tr>\n",
       "      <th>0</th>\n",
       "      <td>1</td>\n",
       "      <td>307</td>\n",
       "      <td>3.5</td>\n",
       "      <td>1256677221</td>\n",
       "    </tr>\n",
       "    <tr>\n",
       "      <th>1</th>\n",
       "      <td>1</td>\n",
       "      <td>481</td>\n",
       "      <td>3.5</td>\n",
       "      <td>1256677456</td>\n",
       "    </tr>\n",
       "    <tr>\n",
       "      <th>2</th>\n",
       "      <td>1</td>\n",
       "      <td>1091</td>\n",
       "      <td>1.5</td>\n",
       "      <td>1256677471</td>\n",
       "    </tr>\n",
       "    <tr>\n",
       "      <th>3</th>\n",
       "      <td>1</td>\n",
       "      <td>1257</td>\n",
       "      <td>4.5</td>\n",
       "      <td>1256677460</td>\n",
       "    </tr>\n",
       "    <tr>\n",
       "      <th>4</th>\n",
       "      <td>1</td>\n",
       "      <td>1449</td>\n",
       "      <td>4.5</td>\n",
       "      <td>1256677264</td>\n",
       "    </tr>\n",
       "  </tbody>\n",
       "</table>\n",
       "</div>"
      ],
      "text/plain": [
       "   userId  movieId  rating   timestamp\n",
       "0       1      307     3.5  1256677221\n",
       "1       1      481     3.5  1256677456\n",
       "2       1     1091     1.5  1256677471\n",
       "3       1     1257     4.5  1256677460\n",
       "4       1     1449     4.5  1256677264"
      ]
     },
     "execution_count": 3,
     "metadata": {},
     "output_type": "execute_result"
    }
   ],
   "source": [
    "ratings.head()"
   ]
  },
  {
   "cell_type": "code",
   "execution_count": 4,
   "id": "448f1299",
   "metadata": {},
   "outputs": [
    {
     "data": {
      "text/html": [
       "<div>\n",
       "<style scoped>\n",
       "    .dataframe tbody tr th:only-of-type {\n",
       "        vertical-align: middle;\n",
       "    }\n",
       "\n",
       "    .dataframe tbody tr th {\n",
       "        vertical-align: top;\n",
       "    }\n",
       "\n",
       "    .dataframe thead th {\n",
       "        text-align: right;\n",
       "    }\n",
       "</style>\n",
       "<table border=\"1\" class=\"dataframe\">\n",
       "  <thead>\n",
       "    <tr style=\"text-align: right;\">\n",
       "      <th></th>\n",
       "      <th>userId</th>\n",
       "      <th>movieId</th>\n",
       "      <th>tag</th>\n",
       "      <th>timestamp</th>\n",
       "    </tr>\n",
       "  </thead>\n",
       "  <tbody>\n",
       "    <tr>\n",
       "      <th>0</th>\n",
       "      <td>14</td>\n",
       "      <td>110</td>\n",
       "      <td>epic</td>\n",
       "      <td>1443148538</td>\n",
       "    </tr>\n",
       "    <tr>\n",
       "      <th>1</th>\n",
       "      <td>14</td>\n",
       "      <td>110</td>\n",
       "      <td>Medieval</td>\n",
       "      <td>1443148532</td>\n",
       "    </tr>\n",
       "    <tr>\n",
       "      <th>2</th>\n",
       "      <td>14</td>\n",
       "      <td>260</td>\n",
       "      <td>sci-fi</td>\n",
       "      <td>1442169410</td>\n",
       "    </tr>\n",
       "    <tr>\n",
       "      <th>3</th>\n",
       "      <td>14</td>\n",
       "      <td>260</td>\n",
       "      <td>space action</td>\n",
       "      <td>1442169421</td>\n",
       "    </tr>\n",
       "    <tr>\n",
       "      <th>4</th>\n",
       "      <td>14</td>\n",
       "      <td>318</td>\n",
       "      <td>imdb top 250</td>\n",
       "      <td>1442615195</td>\n",
       "    </tr>\n",
       "  </tbody>\n",
       "</table>\n",
       "</div>"
      ],
      "text/plain": [
       "   userId  movieId           tag   timestamp\n",
       "0      14      110          epic  1443148538\n",
       "1      14      110      Medieval  1443148532\n",
       "2      14      260        sci-fi  1442169410\n",
       "3      14      260  space action  1442169421\n",
       "4      14      318  imdb top 250  1442615195"
      ]
     },
     "execution_count": 4,
     "metadata": {},
     "output_type": "execute_result"
    }
   ],
   "source": [
    "tags.head()"
   ]
  },
  {
   "cell_type": "markdown",
   "id": "f9a242a0",
   "metadata": {},
   "source": [
    "Соединяем таблицу tags и таблицу ratings, убирая лишние для нас столбцы."
   ]
  },
  {
   "cell_type": "code",
   "execution_count": 5,
   "id": "9814bd9d",
   "metadata": {},
   "outputs": [
    {
     "data": {
      "text/html": [
       "<div>\n",
       "<style scoped>\n",
       "    .dataframe tbody tr th:only-of-type {\n",
       "        vertical-align: middle;\n",
       "    }\n",
       "\n",
       "    .dataframe tbody tr th {\n",
       "        vertical-align: top;\n",
       "    }\n",
       "\n",
       "    .dataframe thead th {\n",
       "        text-align: right;\n",
       "    }\n",
       "</style>\n",
       "<table border=\"1\" class=\"dataframe\">\n",
       "  <thead>\n",
       "    <tr style=\"text-align: right;\">\n",
       "      <th></th>\n",
       "      <th>userId</th>\n",
       "      <th>movieId</th>\n",
       "      <th>rating</th>\n",
       "      <th>tag</th>\n",
       "    </tr>\n",
       "  </thead>\n",
       "  <tbody>\n",
       "    <tr>\n",
       "      <th>0</th>\n",
       "      <td>1</td>\n",
       "      <td>307</td>\n",
       "      <td>3.5</td>\n",
       "      <td>NaN</td>\n",
       "    </tr>\n",
       "    <tr>\n",
       "      <th>1</th>\n",
       "      <td>1</td>\n",
       "      <td>481</td>\n",
       "      <td>3.5</td>\n",
       "      <td>NaN</td>\n",
       "    </tr>\n",
       "    <tr>\n",
       "      <th>2</th>\n",
       "      <td>1</td>\n",
       "      <td>1091</td>\n",
       "      <td>1.5</td>\n",
       "      <td>NaN</td>\n",
       "    </tr>\n",
       "    <tr>\n",
       "      <th>3</th>\n",
       "      <td>1</td>\n",
       "      <td>1257</td>\n",
       "      <td>4.5</td>\n",
       "      <td>NaN</td>\n",
       "    </tr>\n",
       "    <tr>\n",
       "      <th>4</th>\n",
       "      <td>1</td>\n",
       "      <td>1449</td>\n",
       "      <td>4.5</td>\n",
       "      <td>NaN</td>\n",
       "    </tr>\n",
       "  </tbody>\n",
       "</table>\n",
       "</div>"
      ],
      "text/plain": [
       "   userId  movieId  rating  tag\n",
       "0       1      307     3.5  NaN\n",
       "1       1      481     3.5  NaN\n",
       "2       1     1091     1.5  NaN\n",
       "3       1     1257     4.5  NaN\n",
       "4       1     1449     4.5  NaN"
      ]
     },
     "execution_count": 5,
     "metadata": {},
     "output_type": "execute_result"
    }
   ],
   "source": [
    "big_table = pd.merge(ratings, tags, how=\"left\", left_on=(\"userId\", \"movieId\"), right_on =(\"userId\", \"movieId\"))\n",
    "big_table = big_table.drop(['timestamp_x', 'timestamp_y'], axis=1)\n",
    "big_table.head()"
   ]
  },
  {
   "cell_type": "code",
   "execution_count": 6,
   "id": "031828ac",
   "metadata": {},
   "outputs": [
    {
     "data": {
      "text/plain": [
       "((27753444, 4), (1108997, 4), (28363496, 4))"
      ]
     },
     "execution_count": 6,
     "metadata": {},
     "output_type": "execute_result"
    }
   ],
   "source": [
    "ratings.shape, tags.shape, big_table.shape"
   ]
  },
  {
   "cell_type": "code",
   "execution_count": 7,
   "id": "11ba5e15",
   "metadata": {},
   "outputs": [
    {
     "data": {
      "text/plain": [
       "((25527146, 4), (2836350, 4))"
      ]
     },
     "execution_count": 7,
     "metadata": {},
     "output_type": "execute_result"
    }
   ],
   "source": [
    "big_table_train, big_table_test = train_test_split(big_table, test_size=0.1, random_state=42, shuffle=True)\n",
    "\n",
    "big_table_train.shape, big_table_test.shape"
   ]
  },
  {
   "cell_type": "code",
   "execution_count": 8,
   "id": "24bee209",
   "metadata": {},
   "outputs": [],
   "source": [
    "big_table_train = big_table_train.reset_index()\n",
    "big_table_test = big_table_test.reset_index()"
   ]
  },
  {
   "cell_type": "markdown",
   "id": "2f41026c",
   "metadata": {},
   "source": [
    "Больше нам эти таблицы не пригодятся."
   ]
  },
  {
   "cell_type": "code",
   "execution_count": 9,
   "id": "baab3275",
   "metadata": {},
   "outputs": [],
   "source": [
    "del ratings\n",
    "del tags\n",
    "del big_table"
   ]
  },
  {
   "cell_type": "code",
   "execution_count": 10,
   "id": "95d78b52",
   "metadata": {},
   "outputs": [
    {
     "data": {
      "text/html": [
       "<div>\n",
       "<style scoped>\n",
       "    .dataframe tbody tr th:only-of-type {\n",
       "        vertical-align: middle;\n",
       "    }\n",
       "\n",
       "    .dataframe tbody tr th {\n",
       "        vertical-align: top;\n",
       "    }\n",
       "\n",
       "    .dataframe thead th {\n",
       "        text-align: right;\n",
       "    }\n",
       "</style>\n",
       "<table border=\"1\" class=\"dataframe\">\n",
       "  <thead>\n",
       "    <tr style=\"text-align: right;\">\n",
       "      <th></th>\n",
       "      <th>movieId</th>\n",
       "      <th>title</th>\n",
       "      <th>genres</th>\n",
       "    </tr>\n",
       "  </thead>\n",
       "  <tbody>\n",
       "    <tr>\n",
       "      <th>0</th>\n",
       "      <td>1</td>\n",
       "      <td>Toy Story (1995)</td>\n",
       "      <td>Adventure|Animation|Children|Comedy|Fantasy</td>\n",
       "    </tr>\n",
       "    <tr>\n",
       "      <th>1</th>\n",
       "      <td>2</td>\n",
       "      <td>Jumanji (1995)</td>\n",
       "      <td>Adventure|Children|Fantasy</td>\n",
       "    </tr>\n",
       "    <tr>\n",
       "      <th>2</th>\n",
       "      <td>3</td>\n",
       "      <td>Grumpier Old Men (1995)</td>\n",
       "      <td>Comedy|Romance</td>\n",
       "    </tr>\n",
       "    <tr>\n",
       "      <th>3</th>\n",
       "      <td>4</td>\n",
       "      <td>Waiting to Exhale (1995)</td>\n",
       "      <td>Comedy|Drama|Romance</td>\n",
       "    </tr>\n",
       "    <tr>\n",
       "      <th>4</th>\n",
       "      <td>5</td>\n",
       "      <td>Father of the Bride Part II (1995)</td>\n",
       "      <td>Comedy</td>\n",
       "    </tr>\n",
       "  </tbody>\n",
       "</table>\n",
       "</div>"
      ],
      "text/plain": [
       "   movieId                               title  \\\n",
       "0        1                    Toy Story (1995)   \n",
       "1        2                      Jumanji (1995)   \n",
       "2        3             Grumpier Old Men (1995)   \n",
       "3        4            Waiting to Exhale (1995)   \n",
       "4        5  Father of the Bride Part II (1995)   \n",
       "\n",
       "                                        genres  \n",
       "0  Adventure|Animation|Children|Comedy|Fantasy  \n",
       "1                   Adventure|Children|Fantasy  \n",
       "2                               Comedy|Romance  \n",
       "3                         Comedy|Drama|Romance  \n",
       "4                                       Comedy  "
      ]
     },
     "execution_count": 10,
     "metadata": {},
     "output_type": "execute_result"
    }
   ],
   "source": [
    "movies.head()"
   ]
  },
  {
   "cell_type": "markdown",
   "id": "bcd7edf4",
   "metadata": {},
   "source": [
    "Создадим множество всех жанров."
   ]
  },
  {
   "cell_type": "code",
   "execution_count": 11,
   "id": "27f8f3a8",
   "metadata": {},
   "outputs": [
    {
     "data": {
      "text/plain": [
       "{'(no genres listed)',\n",
       " 'Action',\n",
       " 'Adventure',\n",
       " 'Animation',\n",
       " 'Children',\n",
       " 'Comedy',\n",
       " 'Crime',\n",
       " 'Documentary',\n",
       " 'Drama',\n",
       " 'Fantasy',\n",
       " 'Film-Noir',\n",
       " 'Horror',\n",
       " 'IMAX',\n",
       " 'Musical',\n",
       " 'Mystery',\n",
       " 'Romance',\n",
       " 'Sci-Fi',\n",
       " 'Thriller',\n",
       " 'War',\n",
       " 'Western'}"
      ]
     },
     "execution_count": 11,
     "metadata": {},
     "output_type": "execute_result"
    }
   ],
   "source": [
    "genres_vocab = set()\n",
    "for g in movies.genres:\n",
    "    genres_vocab.update(set(g.split('|')))\n",
    "\n",
    "genres_vocab"
   ]
  },
  {
   "cell_type": "code",
   "execution_count": 12,
   "id": "d418d168",
   "metadata": {},
   "outputs": [],
   "source": [
    "genre2idx = dict(zip(genres_vocab, range(len(genres_vocab))))\n",
    "idx2genre = dict(zip(range(len(genres_vocab)), genres_vocab))"
   ]
  },
  {
   "cell_type": "markdown",
   "id": "c33c4ef0",
   "metadata": {},
   "source": [
    "Функция выдает dp.DataFrame, где предствлены one-hot представления жанров."
   ]
  },
  {
   "cell_type": "code",
   "execution_count": 13,
   "id": "c14d39dd",
   "metadata": {},
   "outputs": [
    {
     "data": {
      "text/html": [
       "<div>\n",
       "<style scoped>\n",
       "    .dataframe tbody tr th:only-of-type {\n",
       "        vertical-align: middle;\n",
       "    }\n",
       "\n",
       "    .dataframe tbody tr th {\n",
       "        vertical-align: top;\n",
       "    }\n",
       "\n",
       "    .dataframe thead th {\n",
       "        text-align: right;\n",
       "    }\n",
       "</style>\n",
       "<table border=\"1\" class=\"dataframe\">\n",
       "  <thead>\n",
       "    <tr style=\"text-align: right;\">\n",
       "      <th></th>\n",
       "      <th>Documentary</th>\n",
       "      <th>Sci-Fi</th>\n",
       "      <th>Horror</th>\n",
       "      <th>Romance</th>\n",
       "      <th>Animation</th>\n",
       "      <th>Comedy</th>\n",
       "      <th>Fantasy</th>\n",
       "      <th>Crime</th>\n",
       "      <th>War</th>\n",
       "      <th>IMAX</th>\n",
       "      <th>Musical</th>\n",
       "      <th>Children</th>\n",
       "      <th>Mystery</th>\n",
       "      <th>Adventure</th>\n",
       "      <th>Western</th>\n",
       "      <th>(no genres listed)</th>\n",
       "      <th>Film-Noir</th>\n",
       "      <th>Drama</th>\n",
       "      <th>Thriller</th>\n",
       "      <th>Action</th>\n",
       "    </tr>\n",
       "  </thead>\n",
       "  <tbody>\n",
       "    <tr>\n",
       "      <th>0</th>\n",
       "      <td>0</td>\n",
       "      <td>0</td>\n",
       "      <td>0</td>\n",
       "      <td>0</td>\n",
       "      <td>1</td>\n",
       "      <td>1</td>\n",
       "      <td>1</td>\n",
       "      <td>0</td>\n",
       "      <td>0</td>\n",
       "      <td>0</td>\n",
       "      <td>0</td>\n",
       "      <td>1</td>\n",
       "      <td>0</td>\n",
       "      <td>1</td>\n",
       "      <td>0</td>\n",
       "      <td>0</td>\n",
       "      <td>0</td>\n",
       "      <td>0</td>\n",
       "      <td>0</td>\n",
       "      <td>0</td>\n",
       "    </tr>\n",
       "    <tr>\n",
       "      <th>1</th>\n",
       "      <td>0</td>\n",
       "      <td>0</td>\n",
       "      <td>0</td>\n",
       "      <td>0</td>\n",
       "      <td>0</td>\n",
       "      <td>0</td>\n",
       "      <td>1</td>\n",
       "      <td>0</td>\n",
       "      <td>0</td>\n",
       "      <td>0</td>\n",
       "      <td>0</td>\n",
       "      <td>1</td>\n",
       "      <td>0</td>\n",
       "      <td>1</td>\n",
       "      <td>0</td>\n",
       "      <td>0</td>\n",
       "      <td>0</td>\n",
       "      <td>0</td>\n",
       "      <td>0</td>\n",
       "      <td>0</td>\n",
       "    </tr>\n",
       "    <tr>\n",
       "      <th>2</th>\n",
       "      <td>0</td>\n",
       "      <td>0</td>\n",
       "      <td>0</td>\n",
       "      <td>1</td>\n",
       "      <td>0</td>\n",
       "      <td>1</td>\n",
       "      <td>0</td>\n",
       "      <td>0</td>\n",
       "      <td>0</td>\n",
       "      <td>0</td>\n",
       "      <td>0</td>\n",
       "      <td>0</td>\n",
       "      <td>0</td>\n",
       "      <td>0</td>\n",
       "      <td>0</td>\n",
       "      <td>0</td>\n",
       "      <td>0</td>\n",
       "      <td>0</td>\n",
       "      <td>0</td>\n",
       "      <td>0</td>\n",
       "    </tr>\n",
       "    <tr>\n",
       "      <th>3</th>\n",
       "      <td>0</td>\n",
       "      <td>0</td>\n",
       "      <td>0</td>\n",
       "      <td>1</td>\n",
       "      <td>0</td>\n",
       "      <td>1</td>\n",
       "      <td>0</td>\n",
       "      <td>0</td>\n",
       "      <td>0</td>\n",
       "      <td>0</td>\n",
       "      <td>0</td>\n",
       "      <td>0</td>\n",
       "      <td>0</td>\n",
       "      <td>0</td>\n",
       "      <td>0</td>\n",
       "      <td>0</td>\n",
       "      <td>0</td>\n",
       "      <td>1</td>\n",
       "      <td>0</td>\n",
       "      <td>0</td>\n",
       "    </tr>\n",
       "    <tr>\n",
       "      <th>4</th>\n",
       "      <td>0</td>\n",
       "      <td>0</td>\n",
       "      <td>0</td>\n",
       "      <td>0</td>\n",
       "      <td>0</td>\n",
       "      <td>1</td>\n",
       "      <td>0</td>\n",
       "      <td>0</td>\n",
       "      <td>0</td>\n",
       "      <td>0</td>\n",
       "      <td>0</td>\n",
       "      <td>0</td>\n",
       "      <td>0</td>\n",
       "      <td>0</td>\n",
       "      <td>0</td>\n",
       "      <td>0</td>\n",
       "      <td>0</td>\n",
       "      <td>0</td>\n",
       "      <td>0</td>\n",
       "      <td>0</td>\n",
       "    </tr>\n",
       "    <tr>\n",
       "      <th>...</th>\n",
       "      <td>...</td>\n",
       "      <td>...</td>\n",
       "      <td>...</td>\n",
       "      <td>...</td>\n",
       "      <td>...</td>\n",
       "      <td>...</td>\n",
       "      <td>...</td>\n",
       "      <td>...</td>\n",
       "      <td>...</td>\n",
       "      <td>...</td>\n",
       "      <td>...</td>\n",
       "      <td>...</td>\n",
       "      <td>...</td>\n",
       "      <td>...</td>\n",
       "      <td>...</td>\n",
       "      <td>...</td>\n",
       "      <td>...</td>\n",
       "      <td>...</td>\n",
       "      <td>...</td>\n",
       "      <td>...</td>\n",
       "    </tr>\n",
       "    <tr>\n",
       "      <th>58093</th>\n",
       "      <td>0</td>\n",
       "      <td>0</td>\n",
       "      <td>0</td>\n",
       "      <td>0</td>\n",
       "      <td>0</td>\n",
       "      <td>0</td>\n",
       "      <td>0</td>\n",
       "      <td>0</td>\n",
       "      <td>0</td>\n",
       "      <td>0</td>\n",
       "      <td>0</td>\n",
       "      <td>0</td>\n",
       "      <td>0</td>\n",
       "      <td>0</td>\n",
       "      <td>0</td>\n",
       "      <td>1</td>\n",
       "      <td>0</td>\n",
       "      <td>0</td>\n",
       "      <td>0</td>\n",
       "      <td>0</td>\n",
       "    </tr>\n",
       "    <tr>\n",
       "      <th>58094</th>\n",
       "      <td>0</td>\n",
       "      <td>0</td>\n",
       "      <td>0</td>\n",
       "      <td>0</td>\n",
       "      <td>0</td>\n",
       "      <td>1</td>\n",
       "      <td>0</td>\n",
       "      <td>0</td>\n",
       "      <td>0</td>\n",
       "      <td>0</td>\n",
       "      <td>0</td>\n",
       "      <td>0</td>\n",
       "      <td>0</td>\n",
       "      <td>0</td>\n",
       "      <td>0</td>\n",
       "      <td>0</td>\n",
       "      <td>0</td>\n",
       "      <td>0</td>\n",
       "      <td>0</td>\n",
       "      <td>0</td>\n",
       "    </tr>\n",
       "    <tr>\n",
       "      <th>58095</th>\n",
       "      <td>0</td>\n",
       "      <td>0</td>\n",
       "      <td>0</td>\n",
       "      <td>0</td>\n",
       "      <td>0</td>\n",
       "      <td>0</td>\n",
       "      <td>0</td>\n",
       "      <td>0</td>\n",
       "      <td>0</td>\n",
       "      <td>0</td>\n",
       "      <td>0</td>\n",
       "      <td>0</td>\n",
       "      <td>0</td>\n",
       "      <td>0</td>\n",
       "      <td>0</td>\n",
       "      <td>0</td>\n",
       "      <td>0</td>\n",
       "      <td>1</td>\n",
       "      <td>0</td>\n",
       "      <td>0</td>\n",
       "    </tr>\n",
       "    <tr>\n",
       "      <th>58096</th>\n",
       "      <td>0</td>\n",
       "      <td>1</td>\n",
       "      <td>1</td>\n",
       "      <td>0</td>\n",
       "      <td>0</td>\n",
       "      <td>0</td>\n",
       "      <td>0</td>\n",
       "      <td>0</td>\n",
       "      <td>0</td>\n",
       "      <td>0</td>\n",
       "      <td>0</td>\n",
       "      <td>0</td>\n",
       "      <td>0</td>\n",
       "      <td>1</td>\n",
       "      <td>0</td>\n",
       "      <td>0</td>\n",
       "      <td>0</td>\n",
       "      <td>1</td>\n",
       "      <td>0</td>\n",
       "      <td>0</td>\n",
       "    </tr>\n",
       "    <tr>\n",
       "      <th>58097</th>\n",
       "      <td>0</td>\n",
       "      <td>0</td>\n",
       "      <td>0</td>\n",
       "      <td>0</td>\n",
       "      <td>0</td>\n",
       "      <td>0</td>\n",
       "      <td>0</td>\n",
       "      <td>1</td>\n",
       "      <td>0</td>\n",
       "      <td>0</td>\n",
       "      <td>0</td>\n",
       "      <td>0</td>\n",
       "      <td>0</td>\n",
       "      <td>0</td>\n",
       "      <td>0</td>\n",
       "      <td>0</td>\n",
       "      <td>0</td>\n",
       "      <td>1</td>\n",
       "      <td>0</td>\n",
       "      <td>1</td>\n",
       "    </tr>\n",
       "  </tbody>\n",
       "</table>\n",
       "<p>58098 rows × 20 columns</p>\n",
       "</div>"
      ],
      "text/plain": [
       "       Documentary  Sci-Fi  Horror  Romance  Animation  Comedy  Fantasy  \\\n",
       "0                0       0       0        0          1       1        1   \n",
       "1                0       0       0        0          0       0        1   \n",
       "2                0       0       0        1          0       1        0   \n",
       "3                0       0       0        1          0       1        0   \n",
       "4                0       0       0        0          0       1        0   \n",
       "...            ...     ...     ...      ...        ...     ...      ...   \n",
       "58093            0       0       0        0          0       0        0   \n",
       "58094            0       0       0        0          0       1        0   \n",
       "58095            0       0       0        0          0       0        0   \n",
       "58096            0       1       1        0          0       0        0   \n",
       "58097            0       0       0        0          0       0        0   \n",
       "\n",
       "       Crime  War  IMAX  Musical  Children  Mystery  Adventure  Western  \\\n",
       "0          0    0     0        0         1        0          1        0   \n",
       "1          0    0     0        0         1        0          1        0   \n",
       "2          0    0     0        0         0        0          0        0   \n",
       "3          0    0     0        0         0        0          0        0   \n",
       "4          0    0     0        0         0        0          0        0   \n",
       "...      ...  ...   ...      ...       ...      ...        ...      ...   \n",
       "58093      0    0     0        0         0        0          0        0   \n",
       "58094      0    0     0        0         0        0          0        0   \n",
       "58095      0    0     0        0         0        0          0        0   \n",
       "58096      0    0     0        0         0        0          1        0   \n",
       "58097      1    0     0        0         0        0          0        0   \n",
       "\n",
       "       (no genres listed)  Film-Noir  Drama  Thriller  Action  \n",
       "0                       0          0      0         0       0  \n",
       "1                       0          0      0         0       0  \n",
       "2                       0          0      0         0       0  \n",
       "3                       0          0      1         0       0  \n",
       "4                       0          0      0         0       0  \n",
       "...                   ...        ...    ...       ...     ...  \n",
       "58093                   1          0      0         0       0  \n",
       "58094                   0          0      0         0       0  \n",
       "58095                   0          0      1         0       0  \n",
       "58096                   0          0      1         0       0  \n",
       "58097                   0          0      1         0       1  \n",
       "\n",
       "[58098 rows x 20 columns]"
      ]
     },
     "execution_count": 13,
     "metadata": {},
     "output_type": "execute_result"
    }
   ],
   "source": [
    "def one_hot_genre(data: pd.DataFrame):\n",
    "    genre = pd.DataFrame()\n",
    "    for g in genres_vocab:\n",
    "        genre[g] = data.apply(lambda x: int(g in x['genres'].split('|')), axis=1)\n",
    "    return genre\n",
    "\n",
    "one_hot_genre(movies)"
   ]
  },
  {
   "cell_type": "markdown",
   "id": "29041d72",
   "metadata": {},
   "source": [
    "Заведем словарь из всех встречающихся слов"
   ]
  },
  {
   "cell_type": "code",
   "execution_count": 14,
   "id": "c6b325da",
   "metadata": {},
   "outputs": [
    {
     "name": "stdout",
     "output_type": "stream",
     "text": [
      "Building vocabs:\n"
     ]
    },
    {
     "data": {
      "application/vnd.jupyter.widget-view+json": {
       "model_id": "73ecab3755ef415ea2f516e593460a83",
       "version_major": 2,
       "version_minor": 0
      },
      "text/plain": [
       "  0%|          | 0/58098 [00:00<?, ?it/s]"
      ]
     },
     "metadata": {},
     "output_type": "display_data"
    }
   ],
   "source": [
    "tokenizer = get_tokenizer('basic_english')\n",
    "\n",
    "max_len_title = 0\n",
    "\n",
    "def yield_tokens(it_list):\n",
    "    global max_len_title\n",
    "    \n",
    "    for text in tqdm(it_list):\n",
    "        tokens = tokenizer(text)\n",
    "        if len(tokens) > max_len_title:\n",
    "            max_len_title = len(tokens)\n",
    "        yield tokens\n",
    "\n",
    "def flat_list(list_):\n",
    "    res = []\n",
    "    for el in list_:\n",
    "        res.extend(el)\n",
    "    return res\n",
    "\n",
    "\n",
    "vocab = {}\n",
    "print('Building vocabs:')\n",
    "vocab = build_vocab_from_iterator(\n",
    "    yield_tokens(\n",
    "        movies.title\n",
    "    ),\n",
    "    specials=[\"<unk>\", \"<pad>\"]\n",
    ")\n",
    "vocab.set_default_index(vocab[\"<unk>\"])"
   ]
  },
  {
   "cell_type": "markdown",
   "id": "821f1f78",
   "metadata": {},
   "source": [
    "Заведем отдельные токены для неизвестных слов и для паддингов"
   ]
  },
  {
   "cell_type": "code",
   "execution_count": 15,
   "id": "b69ef427",
   "metadata": {},
   "outputs": [
    {
     "name": "stdout",
     "output_type": "stream",
     "text": [
      "<unk> ~ 0\n",
      "<pad> ~ 1\n"
     ]
    }
   ],
   "source": [
    "unk_id = vocab['<unk>']\n",
    "pad_id = vocab['<pad>']\n",
    "\n",
    "print(f'<unk> ~ {unk_id}\\n<pad> ~ {pad_id}')"
   ]
  },
  {
   "cell_type": "code",
   "execution_count": 16,
   "id": "d055c06d",
   "metadata": {},
   "outputs": [
    {
     "data": {
      "text/plain": [
       "41"
      ]
     },
     "execution_count": 16,
     "metadata": {},
     "output_type": "execute_result"
    }
   ],
   "source": [
    "max_len_title "
   ]
  },
  {
   "cell_type": "markdown",
   "id": "748d8b40",
   "metadata": {},
   "source": [
    "Напишем функцию как мы будем укладывать предложения в тензоры."
   ]
  },
  {
   "cell_type": "code",
   "execution_count": 17,
   "id": "ba89c8df",
   "metadata": {},
   "outputs": [],
   "source": [
    "text_pipeline = lambda x: vocab(tokenizer(x))\n",
    "\n",
    "def collate_batch_padding(batch):\n",
    "    text_list = []\n",
    "    genre_list = []\n",
    "    for text in batch:\n",
    "        text_list.append(text_pipeline(text[0]))\n",
    "        genre_list.append(text[1])\n",
    "        \n",
    "    text_list = [\n",
    "        text + [pad_id] * (max_len_title - len(text))\n",
    "        for text\n",
    "        in text_list\n",
    "    ]\n",
    "    genre_list = torch.vstack(genre_list).to(int)\n",
    "    text_list = torch.tensor(text_list, dtype=torch.int64)\n",
    "    \n",
    "    return torch.cat([text_list, genre_list], dim=-1)"
   ]
  },
  {
   "cell_type": "code",
   "execution_count": 18,
   "id": "eca0250f",
   "metadata": {},
   "outputs": [
    {
     "data": {
      "text/plain": [
       "tensor([[918, 103,   1,   1,   1,   1,   1,   1,   1,   1,   1,   1,   1,   1,\n",
       "           1,   1,   1,   1,   1,   1,   1,   1,   1,   1,   1,   1,   1,   1,\n",
       "           1,   1,   1,   1,   1,   1,   1,   1,   1,   1,   1,   1,   1,   1,\n",
       "           1,   1,   1,   1,   2],\n",
       "        [918, 103,   1,   1,   1,   1,   1,   1,   1,   1,   1,   1,   1,   1,\n",
       "           1,   1,   1,   1,   1,   1,   1,   1,   1,   1,   1,   1,   1,   1,\n",
       "           1,   1,   1,   1,   1,   1,   1,   1,   1,   1,   1,   1,   1,   1,\n",
       "           1,   1,   1,   1,   2]])"
      ]
     },
     "execution_count": 18,
     "metadata": {},
     "output_type": "execute_result"
    }
   ],
   "source": [
    "collate_batch_padding([[\"Hello world\", torch.Tensor([[1, 1, 1, 1, 1, 2]])], \n",
    "                       [\"Hello world\", torch.Tensor([[1, 1, 1, 1, 1, 2]])]])"
   ]
  },
  {
   "cell_type": "code",
   "execution_count": 19,
   "id": "e473ff8b",
   "metadata": {},
   "outputs": [],
   "source": [
    "input_size = 61\n",
    "hidden_size = 128\n",
    "num_layers = 1\n",
    "output_size = 64\n",
    "batch_size = 256"
   ]
  },
  {
   "cell_type": "markdown",
   "id": "d753ecc9",
   "metadata": {},
   "source": [
    "Напишем класс, который будет по фильму возвращать его embedding"
   ]
  },
  {
   "cell_type": "code",
   "execution_count": 20,
   "id": "6346e2ef",
   "metadata": {},
   "outputs": [],
   "source": [
    "class MovieNN(nn.Module):\n",
    "    def  __init__(self,\n",
    "                  input_size: int, \n",
    "                  hidden_size: int, \n",
    "                  num_layers: int,\n",
    "                  output_size: int):\n",
    "        \n",
    "        super(MovieNN, self).__init__()\n",
    "        self.lstm = nn.LSTM(\n",
    "            input_size=input_size,\n",
    "            hidden_size=hidden_size,\n",
    "            num_layers=num_layers,\n",
    "            batch_first=True,\n",
    "        )\n",
    "        \n",
    "        self.linear = nn.Linear(hidden_size, output_size)\n",
    "    \n",
    "    def forward(self, input_):\n",
    "        output, (_, _) = self.lstm(input_.float())\n",
    "        \n",
    "        embedings = self.linear(output.float())\n",
    "        return embedings"
   ]
  },
  {
   "cell_type": "code",
   "execution_count": 21,
   "id": "f2da1ea8",
   "metadata": {},
   "outputs": [],
   "source": [
    "movie_model = MovieNN(input_size, hidden_size, num_layers, output_size)"
   ]
  },
  {
   "cell_type": "code",
   "execution_count": 22,
   "id": "a6c3b97c",
   "metadata": {},
   "outputs": [],
   "source": [
    "def get_movie_embedding(idx: int) -> torch.Tensor:\n",
    "    \"\"\"\n",
    "    Function to get film embedding by film index\n",
    "    movie_idx: int\n",
    "    output movie_embedding: torch.tensor\n",
    "    \"\"\"\n",
    "    movie = movies.loc[movies.movieId == idx]\n",
    "    one_hot_genres = torch.Tensor(one_hot_genre(movie).to_numpy())\n",
    "    title = str(movie.title)\n",
    "    dataitem = collate_batch_padding([[title, one_hot_genres]])\n",
    "    embedding = movie_model(dataitem).squeeze()\n",
    "    return embedding"
   ]
  },
  {
   "cell_type": "code",
   "execution_count": 23,
   "id": "dd22a5fc",
   "metadata": {},
   "outputs": [
    {
     "data": {
      "text/plain": [
       "tensor([-0.0389,  0.2797,  0.6131, -0.1651,  0.3682, -0.6260,  0.2635, -0.0521,\n",
       "         0.2103,  0.1322,  0.0935, -0.2009,  0.1525,  0.3379, -0.0659,  0.0589,\n",
       "        -0.1638,  0.1516,  0.0981,  0.0638,  0.3476,  0.2553, -0.0292, -0.0158,\n",
       "         0.2014,  0.2763,  0.0204, -0.2656,  0.0546, -0.5616,  0.1552, -0.1194,\n",
       "         0.0840,  0.1173, -0.1658, -0.2450, -0.0837,  0.1019,  0.0259,  0.2462,\n",
       "        -0.1744,  0.1590, -0.1708, -0.0515,  0.0896, -0.4333, -0.1324,  0.1036,\n",
       "         0.1982,  0.1563,  0.0916, -0.2395,  0.1603, -0.3533,  0.1527,  0.3896,\n",
       "         0.0609,  0.1816,  0.0479, -0.3128, -0.0683, -0.1326, -0.4809, -0.1288],\n",
       "       grad_fn=<SqueezeBackward0>)"
      ]
     },
     "execution_count": 23,
     "metadata": {},
     "output_type": "execute_result"
    }
   ],
   "source": [
    "get_movie_embedding(100)"
   ]
  },
  {
   "cell_type": "code",
   "execution_count": 24,
   "id": "62682566",
   "metadata": {},
   "outputs": [],
   "source": [
    "text_pipeline_user = lambda x: vocab(tokenizer(x)) if not isinstance(x, float) else vocab(tokenizer(\"\"))\n",
    "rating_pipeline = lambda x: -1 if np.isnan(x) else x\n",
    "\n",
    "\n",
    "def collate_user_batch_padding(batch, movie2emb = None):\n",
    "    text_list = []\n",
    "    ratings_list = []\n",
    "    movie_items = []\n",
    "    for text, movie, rating in batch:\n",
    "        \n",
    "        text_list.append(text_pipeline_user(text))\n",
    "        \n",
    "        ratings_list.append(rating_pipeline(rating))\n",
    "        if movie2emb is not None:\n",
    "            movie_items.append(movie2emb[movie])\n",
    "        else:\n",
    "            movie_items.append(get_movie_embedding(movie))\n",
    "\n",
    "    \n",
    "    text_list = [\n",
    "        text + [pad_id] * (max_len_title - len(text))\n",
    "        for text\n",
    "        in text_list\n",
    "    ]\n",
    "    ratings_list = torch.tensor(ratings_list)[:, None]\n",
    "    movie_items = torch.vstack(movie_items).long()\n",
    "    text_list = torch.tensor(text_list, dtype=torch.int64)\n",
    "    \n",
    "    return torch.cat([text_list, movie_items, ratings_list], dim=-1)"
   ]
  },
  {
   "cell_type": "code",
   "execution_count": 25,
   "id": "33809e62",
   "metadata": {},
   "outputs": [],
   "source": [
    "class UserNN(nn.Module):\n",
    "    def  __init__(self, \n",
    "                  input_size: int, \n",
    "                  hidden_size: int, \n",
    "                  num_layers: int,\n",
    "                  output_size: int):\n",
    "        \n",
    "        super(UserNN, self).__init__()\n",
    "\n",
    "        self.lstm = nn.LSTM(\n",
    "            input_size=input_size,\n",
    "            hidden_size=hidden_size,\n",
    "            num_layers=num_layers,\n",
    "            batch_first=True,\n",
    "        )\n",
    "        \n",
    "        self.linear = nn.Linear(hidden_size, output_size)\n",
    "    \n",
    "    def forward(self, input_):\n",
    "        output, (_, _) = self.lstm(input_.float())\n",
    "        \n",
    "        embedings = self.linear(output.float())\n",
    "        return embedings"
   ]
  },
  {
   "cell_type": "code",
   "execution_count": 26,
   "id": "1ff7f45e",
   "metadata": {},
   "outputs": [],
   "source": [
    "user_model = UserNN(106, hidden_size, num_layers, output_size)"
   ]
  },
  {
   "cell_type": "markdown",
   "id": "82e60404",
   "metadata": {},
   "source": [
    "Чтобы постоянно не пересчитывать ембеддинги фильмов для получения ембеддингов пользователей, мы будем раз в несколько итераций полностью вычислять для всех фильмов ембеддинги."
   ]
  },
  {
   "cell_type": "code",
   "execution_count": 27,
   "id": "9ef0cc8c",
   "metadata": {},
   "outputs": [],
   "source": [
    "movie2emb = {}"
   ]
  },
  {
   "cell_type": "code",
   "execution_count": 28,
   "id": "853194d5",
   "metadata": {},
   "outputs": [],
   "source": [
    "def get_user_embedding(idx: int):\n",
    "    user = big_table_train.loc[big_table_train.userId == idx]\n",
    "    tags = user.tag\n",
    "    movie = user.movieId\n",
    "    rating = user.rating\n",
    "    dataitems = collate_user_batch_padding(zip(tags, movie, rating), movie2emb)\n",
    "    embeddings = user_model(dataitems)\n",
    "        \n",
    "    embedding = embeddings.mean(axis=0)\n",
    "    return embedding"
   ]
  },
  {
   "cell_type": "code",
   "execution_count": 29,
   "id": "906158cb",
   "metadata": {},
   "outputs": [],
   "source": [
    "def update_movie():\n",
    "    mov = np.unique(movies.movieId)\n",
    "    \n",
    "    mov2emb = defaultdict(lambda x: 0)\n",
    "    \n",
    "    for m in tqdm(mov):\n",
    "        movie = movies.loc[movies.movieId == m]\n",
    "        one_hot_genres = torch.Tensor(one_hot_genre(movie).to_numpy())\n",
    "        title = str(movie.title)\n",
    "        \n",
    "        dataitem = collate_batch_padding([[title, one_hot_genres]])\n",
    "        embedding = movie_model(dataitem).squeeze()\n",
    "        \n",
    "        mov2emb[m] = embedding \n",
    "    \n",
    "    return mov2emb"
   ]
  },
  {
   "cell_type": "code",
   "execution_count": 30,
   "id": "6a3f0616",
   "metadata": {},
   "outputs": [
    {
     "data": {
      "application/vnd.jupyter.widget-view+json": {
       "model_id": "9efbbcbdca0842de8a9d8c3ecf6ec8fa",
       "version_major": 2,
       "version_minor": 0
      },
      "text/plain": [
       "  0%|          | 0/58098 [00:00<?, ?it/s]"
      ]
     },
     "metadata": {},
     "output_type": "display_data"
    },
    {
     "data": {
      "text/plain": [
       "58098"
      ]
     },
     "execution_count": 30,
     "metadata": {},
     "output_type": "execute_result"
    }
   ],
   "source": [
    "movie2emb = update_movie()\n",
    "len(movie2emb)"
   ]
  },
  {
   "cell_type": "code",
   "execution_count": 31,
   "id": "19f0b846",
   "metadata": {},
   "outputs": [],
   "source": [
    "class LearningDataset(Dataset):\n",
    "    def __init__(self, big_table: pd.DataFrame):\n",
    "        self.rating = big_table.rating\n",
    "        self.movies = big_table.movieId\n",
    "        self.users = big_table.userId\n",
    "        self.ln = len(self.rating)\n",
    "        \n",
    "    def __getitem__(self, index):\n",
    "        user_emb = get_user_embedding(self.users[index])\n",
    "        movie_emb = get_movie_embedding(self.movies[index])\n",
    "        data = torch.cat([user_emb, movie_emb], dim=-1)\n",
    "        return data, self.rating[index]\n",
    "        \n",
    "    def __len__(self):\n",
    "        return self.ln\n",
    "    \n",
    "train_dataset = LearningDataset(big_table_train)\n",
    "test_dataset = LearningDataset(big_table_test)\n",
    "\n",
    "train_dataloader = DataLoader(train_dataset, \n",
    "                               batch_size=batch_size, \n",
    "                               shuffle=True)\n",
    "test_dataloader = DataLoader(test_dataset, \n",
    "                               batch_size=batch_size, \n",
    "                               shuffle=True)"
   ]
  },
  {
   "cell_type": "code",
   "execution_count": 32,
   "id": "a679f1e7",
   "metadata": {},
   "outputs": [
    {
     "data": {
      "text/plain": [
       "[tensor([[ 0.0626, -0.0891,  0.0213,  ...,  0.1376, -0.2347,  0.0820],\n",
       "         [ 0.0733, -0.0856,  0.0219,  ...,  0.1927, -0.0145, -0.0911],\n",
       "         [ 0.0747, -0.0851,  0.0216,  ...,  0.2345,  0.0407,  0.2059],\n",
       "         ...,\n",
       "         [ 0.0742, -0.0852,  0.0217,  ...,  0.2080,  0.1159, -0.1020],\n",
       "         [ 0.0682, -0.0873,  0.0218,  ..., -0.1048, -0.2987, -0.0324],\n",
       "         [ 0.0696, -0.0865,  0.0211,  ...,  0.3236, -0.0912, -0.2323]],\n",
       "        grad_fn=<StackBackward0>),\n",
       " tensor([3.0000, 2.0000, 4.0000, 4.0000, 2.5000, 5.0000, 4.0000, 5.0000, 3.5000,\n",
       "         3.0000, 5.0000, 4.0000, 4.0000, 3.5000, 5.0000, 4.0000, 3.5000, 4.0000,\n",
       "         3.0000, 4.0000, 2.0000, 5.0000, 4.0000, 4.5000, 1.0000, 4.0000, 4.5000,\n",
       "         4.5000, 4.0000, 4.0000, 4.0000, 2.0000, 4.0000, 4.0000, 4.0000, 5.0000,\n",
       "         5.0000, 3.5000, 3.0000, 3.5000, 4.0000, 1.0000, 4.0000, 2.0000, 3.0000,\n",
       "         4.5000, 1.5000, 2.0000, 3.0000, 4.0000, 3.0000, 5.0000, 5.0000, 3.0000,\n",
       "         3.0000, 4.0000, 5.0000, 3.5000, 3.5000, 3.0000, 3.0000, 2.0000, 3.0000,\n",
       "         4.5000, 4.5000, 5.0000, 3.0000, 3.5000, 5.0000, 3.0000, 4.5000, 4.0000,\n",
       "         4.0000, 2.0000, 4.5000, 4.0000, 4.5000, 3.0000, 4.0000, 3.0000, 4.5000,\n",
       "         2.0000, 2.0000, 4.0000, 3.0000, 4.0000, 2.0000, 2.0000, 4.5000, 2.0000,\n",
       "         3.0000, 4.0000, 3.0000, 4.0000, 3.5000, 4.0000, 2.5000, 5.0000, 3.5000,\n",
       "         5.0000, 4.5000, 3.5000, 3.0000, 3.5000, 3.0000, 3.5000, 3.5000, 4.0000,\n",
       "         4.0000, 4.0000, 3.5000, 5.0000, 4.5000, 3.5000, 2.5000, 5.0000, 5.0000,\n",
       "         3.5000, 5.0000, 3.0000, 5.0000, 1.0000, 5.0000, 3.5000, 0.5000, 1.0000,\n",
       "         4.0000, 5.0000, 5.0000, 4.0000, 3.0000, 4.5000, 3.0000, 5.0000, 4.0000,\n",
       "         5.0000, 1.5000, 3.0000, 5.0000, 5.0000, 1.5000, 3.0000, 0.5000, 3.5000,\n",
       "         4.0000, 3.0000, 1.0000, 3.5000, 4.0000, 4.0000, 4.0000, 3.0000, 3.5000,\n",
       "         4.0000, 5.0000, 4.5000, 1.5000, 4.0000, 3.5000, 5.0000, 3.0000, 4.0000,\n",
       "         2.5000, 3.0000, 5.0000, 1.0000, 3.5000, 0.5000, 4.5000, 4.5000, 4.0000,\n",
       "         4.5000, 5.0000, 3.0000, 4.0000, 2.5000, 4.0000, 4.5000, 4.0000, 4.0000,\n",
       "         4.0000, 4.5000, 5.0000, 2.0000, 2.0000, 2.0000, 3.0000, 2.5000, 4.5000,\n",
       "         4.0000, 4.0000, 4.5000, 4.0000, 3.0000, 3.0000, 4.0000, 2.5000, 4.0000,\n",
       "         1.5000, 4.0000, 1.0000, 3.0000, 3.0000, 3.5000, 2.5000, 4.0000, 2.0000,\n",
       "         4.0000, 3.0000, 2.0000, 3.0000, 2.0000, 3.5000, 3.0000, 4.5000, 4.0000,\n",
       "         3.0000, 4.0000, 3.0000, 4.5000, 5.0000, 4.0000, 4.5000, 5.0000, 3.0000,\n",
       "         3.5000, 4.0000, 4.0000, 3.0000, 3.0000, 5.0000, 4.5000, 5.0000, 5.0000,\n",
       "         5.0000, 4.0000, 1.0000, 2.0000, 3.0000, 3.0000, 3.5000, 1.5000, 4.0000,\n",
       "         4.0000, 2.5000, 2.0000, 3.5000, 4.0000, 3.0000, 4.0000, 4.0000, 5.0000,\n",
       "         3.5000, 4.0000, 4.0000, 3.0000], dtype=torch.float64)]"
      ]
     },
     "execution_count": 32,
     "metadata": {},
     "output_type": "execute_result"
    }
   ],
   "source": [
    "next(iter(train_dataloader))"
   ]
  },
  {
   "cell_type": "code",
   "execution_count": null,
   "id": "7c83816f",
   "metadata": {},
   "outputs": [],
   "source": []
  },
  {
   "cell_type": "code",
   "execution_count": 33,
   "id": "027e8239",
   "metadata": {},
   "outputs": [],
   "source": [
    "class PredictModel(nn.Module):\n",
    "    def __init__(self, input_size):\n",
    "        super(PredictModel, self).__init__()\n",
    "        self.model = nn.Sequential(\n",
    "            nn.Linear(input_size, 64),\n",
    "            nn.ReLU(),\n",
    "            nn.Linear(64, 1),\n",
    "            nn.ReLU(),\n",
    "            nn.Softmax(dim=-1)\n",
    "        )\n",
    "              \n",
    "    def forward(self, input_):\n",
    "        output = self.model(input_)\n",
    "        return output * 5"
   ]
  },
  {
   "cell_type": "code",
   "execution_count": 34,
   "id": "a44cb1ad",
   "metadata": {},
   "outputs": [],
   "source": [
    "def validation_loss(model, dataloader = test_dataloader):\n",
    "    with torch.no_grad():\n",
    "        history_loss = []\n",
    "        for i, (data, label) in tqdm(enumerate(dataloader)):\n",
    "            prediction = model(data)\n",
    "\n",
    "            loss = ((prediction - label) ** 2).mean()\n",
    "            history_loss.append(loss.item())\n",
    "        \n",
    "        return torch.mean(history_loss)"
   ]
  },
  {
   "cell_type": "code",
   "execution_count": null,
   "id": "a35ea810",
   "metadata": {},
   "outputs": [
    {
     "data": {
      "application/vnd.jupyter.widget-view+json": {
       "model_id": "c7108dd021a94dc997b448b4dc728ba4",
       "version_major": 2,
       "version_minor": 0
      },
      "text/plain": [
       "  0%|          | 0/58098 [00:00<?, ?it/s]"
      ]
     },
     "metadata": {},
     "output_type": "display_data"
    }
   ],
   "source": [
    "\n",
    "learning_model = PredictModel(output_size * 2)\n",
    "optimizer = torch.optim.Adam(learning_model.parameters(), lr=1e-3)\n",
    "\n",
    "epochs = 5\n",
    "\n",
    "history_loss = []\n",
    "val_loss = []\n",
    "update_freq = 100\n",
    "\n",
    "\n",
    "for epoch in range(epochs):\n",
    "    for i, (data, label) in enumerate(train_dataloader):\n",
    "        optimizer.zero_grad()\n",
    "        prediction = learning_model(data)\n",
    "\n",
    "        loss = ((prediction - label) ** 2).mean()\n",
    "        history_loss.append(loss.item())\n",
    "        loss.backward()\n",
    "        optimizer.step()\n",
    "        \n",
    "        if i % update_freq == 0:\n",
    "            clear_output()\n",
    "            plt.plot(history_loss)\n",
    "            movie2emb = update_movie()\n",
    "            \n",
    "    val_loss = validation_loss(learning_model)\n",
    "\n",
    "    print(f\"Epoch#{epoch}   validation_loss == {val_loss}\")\n"
   ]
  },
  {
   "cell_type": "code",
   "execution_count": null,
   "id": "d9b2bb72",
   "metadata": {},
   "outputs": [],
   "source": []
  }
 ],
 "metadata": {
  "kernelspec": {
   "display_name": "Python 3 (ipykernel)",
   "language": "python",
   "name": "python3"
  },
  "language_info": {
   "codemirror_mode": {
    "name": "ipython",
    "version": 3
   },
   "file_extension": ".py",
   "mimetype": "text/x-python",
   "name": "python",
   "nbconvert_exporter": "python",
   "pygments_lexer": "ipython3",
   "version": "3.9.16"
  }
 },
 "nbformat": 4,
 "nbformat_minor": 5
}
